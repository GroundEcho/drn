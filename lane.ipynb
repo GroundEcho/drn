{
 "cells": [
  {
   "cell_type": "markdown",
   "metadata": {},
   "source": [
    "# 实验名称：智能网联车配置"
   ]
  },
  {
   "cell_type": "markdown",
   "metadata": {},
   "source": [
    "## 1 实验步骤："
   ]
  },
  {
   "cell_type": "code",
   "execution_count": null,
   "metadata": {},
   "outputs": [],
   "source": [
    "import numpy as np\n",
    "import cv2\n",
    "import matplotlib.pyplot as plt\n",
    "import matplotlib.patches as patches"
   ]
  },
  {
   "cell_type": "markdown",
   "metadata": {},
   "source": [
    "### 1.1 阈值过滤\n",
    "\n",
    "#### 1.1.1 梯度阈值过滤\n"
   ]
  },
  {
   "cell_type": "code",
   "execution_count": null,
   "metadata": {},
   "outputs": [],
   "source": [
    "def abs_sobel_thresh(img, orient = 'x', thresh_min = 0, thresh_max = 255):\n",
    "    gray = cv2.cvtColor(img, cv2.COLOR_RGB2GRAY)\n",
    "    if orient == 'x':\n",
    "        abs_sobel = np.absolute(cv2.Sobel(gray, cv2.CV_64F, 1, 0))\n",
    "    if orient == 'y':\n",
    "        abs_sobel = np.absolute(cv2.Sobel(gray, cv2.CV_64F, 0, 1))\n",
    "    scaled_sobel = np.uint8(255*abs_sobel/np.max(abs_sobel))\n",
    "    binary_output = np.zeros_like(scaled_sobel)\n",
    "    binary_output[(scaled_sobel >= thresh_min) & (scaled_sobel <= thresh_max)] = 1\n",
    "\n",
    "    return binary_output"
   ]
  },
  {
   "cell_type": "code",
   "execution_count": null,
   "metadata": {},
   "outputs": [],
   "source": [
    "origin = cv2.imread('02.jpg')\n",
    "plt.imshow(origin)\n",
    "print(origin)"
   ]
  },
  {
   "cell_type": "markdown",
   "metadata": {},
   "source": [
    "## 题1. 从选项中选择一组合适的值分别填入。"
   ]
  },
  {
   "cell_type": "code",
   "execution_count": null,
   "metadata": {},
   "outputs": [],
   "source": [
    "img = origin.copy()\n",
    "\n",
    "\n",
    "img_x_thresh = abs_sobel_thresh(img, orient=?, thresh_min=?, thresh_max=?)\n",
    "#A: 0 255\n",
    "#B: 30 200\n",
    "#C: 200 255\n",
    "\n",
    "\n",
    "\n",
    "print(img_x_thresh)\n",
    "\n",
    "plt.imshow(img_x_thresh)\n"
   ]
  },
  {
   "cell_type": "code",
   "execution_count": null,
   "metadata": {},
   "outputs": [],
   "source": [
    "def mag_thresh(img, sobel_kernel=3, mag_thresh=(0, 255)):\n",
    "\n",
    "    gray = cv2.cvtColor(img, cv2.COLOR_RGB2GRAY)\n",
    "\n",
    "    sobelx = cv2.Sobel(gray, cv2.CV_64F, 1, 0, ksize=sobel_kernel)\n",
    "    sobely = cv2.Sobel(gray, cv2.CV_64F, 0, 1, ksize=sobel_kernel)\n",
    "\n",
    "    gradmag = np.sqrt(sobelx**2 + sobely**2)\n",
    "\n",
    "    scale_factor = np.max(gradmag)/255 \n",
    "    gradmag = (gradmag/scale_factor).astype(np.uint8) \n",
    "\n",
    "    binary_output = np.zeros_like(gradmag)\n",
    "    binary_output[(gradmag >= mag_thresh[0]) & (gradmag <= mag_thresh[1])] = 1\n",
    "\n",
    "\n",
    "    return binary_output"
   ]
  },
  {
   "cell_type": "markdown",
   "metadata": {},
   "source": [
    "## 题2. 从选项中选择一组合适的值分别填入。"
   ]
  },
  {
   "cell_type": "code",
   "execution_count": null,
   "metadata": {},
   "outputs": [],
   "source": [
    "img_1 = origin.copy()\n",
    "\n",
    "\n",
    "\n",
    "\n",
    "mag_thresh_1 = mag_thresh(img_1, sobel_kernel=?, mag_thresh=(?,?))\n",
    "#A: 8 265,600         B: 3 50,100           C: 1 0,300\n",
    "\n",
    "\n",
    "\n",
    "\n",
    "plt.imshow(mag_thresh_1)"
   ]
  },
  {
   "cell_type": "code",
   "execution_count": null,
   "metadata": {},
   "outputs": [],
   "source": [
    "img_2 = origin.copy()\n",
    "mag_thresh_2 = mag_thresh(img_1, sobel_kernel=27, mag_thresh=(50, 100))\n",
    "plt.imshow(mag_thresh_2)"
   ]
  },
  {
   "cell_type": "markdown",
   "metadata": {},
   "source": [
    "#### 3.1.2 颜色阈值过滤\n"
   ]
  },
  {
   "cell_type": "code",
   "execution_count": null,
   "metadata": {},
   "outputs": [],
   "source": [
    "def hls_select(img, channel = 's', thresh = (0, 255)):\n",
    "    hls = cv2.cvtColor(img, cv2.COLOR_RGB2HLS)\n",
    "    if channel == 'h':\n",
    "        channel = hls[:, :, 0]\n",
    "    elif channel == 'l':\n",
    "        channel = hls[:, :, 1]\n",
    "    else:\n",
    "        channel = hls[:, :, 2]\n",
    "        \n",
    "    binary_output = np.zeros_like(channel)\n",
    "    binary_output[(channel > thresh[0]) & (channel <= thresh[1])] = 1\n",
    "    return binary_output"
   ]
  },
  {
   "cell_type": "markdown",
   "metadata": {},
   "source": [
    "## 题3. 从选项中选择一组合适的值分别填入。"
   ]
  },
  {
   "cell_type": "code",
   "execution_count": null,
   "metadata": {},
   "outputs": [],
   "source": [
    "img_color_value = origin.copy()\n",
    "\n",
    "\n",
    "\n",
    "\n",
    "s_thresh = hls_select(img,channel=?,thresh=(?, ?))\n",
    "#A: 's' 100, 150                B: 'h' 10, 100             C: 'l' 180, 255\n",
    "\n",
    "\n",
    "\n",
    "\n",
    "plt.imshow(s_thresh)"
   ]
  },
  {
   "cell_type": "markdown",
   "metadata": {},
   "source": [
    "### 3.1.3 组合阈值过滤\n"
   ]
  },
  {
   "cell_type": "code",
   "execution_count": null,
   "metadata": {},
   "outputs": [],
   "source": [
    "def dir_threshold(img, sobel_kernel=3, thresh=(0, np.pi/2)):\n",
    "\n",
    "    gray = cv2.cvtColor(img, cv2.COLOR_RGB2GRAY)\n",
    "\n",
    "    sobelx = cv2.Sobel(gray, cv2.CV_64F, 1, 0, ksize=sobel_kernel)\n",
    "    sobely = cv2.Sobel(gray, cv2.CV_64F, 0, 1, ksize=sobel_kernel)\n",
    "\n",
    "    \n",
    "    absgraddir = np.arctan2(np.absolute(sobely), np.absolute(sobelx))\n",
    "    binary_output =  np.zeros_like(absgraddir)\n",
    "    binary_output[(absgraddir >= thresh[0]) & (absgraddir <= thresh[1])] = 1\n",
    "\n",
    "\n",
    "    return binary_output\n",
    "\n",
    "def luv_select(img, thresh=(0, 255)):\n",
    "    luv = cv2.cvtColor(img, cv2.COLOR_RGB2LUV)\n",
    "    l_channel = luv[:,:,0]\n",
    "    binary_output = np.zeros_like(l_channel)\n",
    "    binary_output[(l_channel > thresh[0]) & (l_channel <= thresh[1])] = 1\n",
    "    return binary_output\n",
    "\n",
    "def lab_select(img, thresh=(0, 255)):\n",
    "    lab = cv2.cvtColor(img, cv2.COLOR_RGB2Lab)\n",
    "    b_channel = lab[:,:,2]\n",
    "    binary_output = np.zeros_like(b_channel)\n",
    "    binary_output[(b_channel > thresh[0]) & (b_channel <= thresh[1])] = 1\n",
    "    return binary_output\n"
   ]
  },
  {
   "cell_type": "code",
   "execution_count": null,
   "metadata": {},
   "outputs": [],
   "source": [
    "def thresholding(img):\n",
    "    x_thresh = abs_sobel_thresh(img, orient='x', thresh_min=10 ,thresh_max=230)\n",
    "    m_thresh = mag_thresh(img, sobel_kernel=27, mag_thresh=(70, 100))\n",
    "    dir_thresh = dir_threshold(img, sobel_kernel=27, thresh=(0.7, 1.3))\n",
    "    hls_thresh = hls_select(img, thresh=(180, 255))\n",
    "    lab_thresh = lab_select(img, thresh=(155, 200))\n",
    "    luv_thresh = luv_select(img, thresh=(225, 255))\n",
    "\n",
    "    threshholded = np.zeros_like(x_thresh)\n",
    "    threshholded[((x_thresh == 1) & (m_thresh == 1)) | ((dir_thresh == 1) & (hls_thresh == 1)) | (lab_thresh == 1) | (luv_thresh == 1)] = 1\n",
    "\n",
    "    return threshholded"
   ]
  },
  {
   "cell_type": "code",
   "execution_count": null,
   "metadata": {},
   "outputs": [],
   "source": [
    "img_combine = origin.copy()\n",
    "comb_thresh = thresholding(img)\n",
    "plt.imshow(comb_thresh)"
   ]
  },
  {
   "cell_type": "markdown",
   "metadata": {},
   "source": [
    "## 4. 透视变换\n",
    "\n",
    "![](https://ai-studio-static-online.cdn.bcebos.com/8909b5b2912a42669f408141c9d80b384c1c843dddc341889a7c2d85bb2ed16a)"
   ]
  },
  {
   "cell_type": "markdown",
   "metadata": {},
   "source": [
    "## 题4. 从选项中选择一组合适的值分别填入。"
   ]
  },
  {
   "cell_type": "code",
   "execution_count": null,
   "metadata": {},
   "outputs": [],
   "source": [
    "\n",
    "def get_M_Minv():\n",
    "    \n",
    "    \n",
    "    \n",
    "    \n",
    "\n",
    "    src = ?\n",
    "    #A:[(100, 720), (580, 350), (780, 350), (1050, 720)]                  \n",
    "    #B:[(400, 360), (580, 30), (780, 30), (950, 360)]  \n",
    "    #C:[(400, 720), (580, 350), (780, 350), (950, 720)]\n",
    "    \n",
    "    \n",
    "    \n",
    "    \n",
    "    \n",
    "    dst = np.float32([[(320, 720), (320, 0), (960, 0), (960, 720)]])\n",
    "\n",
    "    M = cv2.getPerspectiveTransform(src, dst)\n",
    "    Minv = cv2.getPerspectiveTransform(dst,src)\n",
    "    return [M,Minv]"
   ]
  },
  {
   "cell_type": "code",
   "execution_count": null,
   "metadata": {},
   "outputs": [],
   "source": [
    "img_pres = origin.copy()\n",
    "print(img_pres.shape)\n",
    "print(img_pres.shape[1::-1])\n",
    "\n",
    "M, Minv = get_M_Minv()\n",
    "\n",
    "binary_wraped = cv2.warpPerspective(comb_thresh, M, img_pres.shape[1::-1], flags=cv2.INTER_LINEAR)\n",
    "\n",
    "plt.imshow(binary_wraped)"
   ]
  },
  {
   "cell_type": "markdown",
   "metadata": {},
   "source": [
    "## 5. 检测车道边线\n"
   ]
  },
  {
   "cell_type": "markdown",
   "metadata": {},
   "source": [
    "## 题5. 从选项中选择一组合适的值分别填入?"
   ]
  },
  {
   "cell_type": "code",
   "execution_count": null,
   "metadata": {},
   "outputs": [],
   "source": [
    "def find_line(binary_warped):\n",
    "    \n",
    "    histogram = np.sum(binary_warped[binary_warped.shape[0]//2:,:], axis=0)\n",
    "    \n",
    "    print(histogram.shape)\n",
    "    plt.plot(range(1280), histogram)\n",
    "    \n",
    "    midpoint = np.int(histogram.shape[0]/2)\n",
    "    leftx_base = np.argmax(histogram[:midpoint])\n",
    "    \n",
    "    \n",
    "    \n",
    "    \n",
    "    rightx_base = ?\n",
    "    #A: np.argmax(histogram[midpoint:])\n",
    "    #B: np.argmax(histogram[midpoint:]) + midpoint\n",
    "    #C: np.argmax(histogram[midpoint:]) - midpoint\n",
    "    \n",
    "    \n",
    "    \n",
    "    \n",
    "    \n",
    "    \n",
    "    \n",
    "    nwindows = 20\n",
    "\n",
    "    margin = 150\n",
    "\n",
    "    minpix = 20\n",
    "    \n",
    "\n",
    "    window_height = np.int(binary_warped.shape[0]/nwindows)\n",
    "\n",
    "    nonzero = binary_warped.nonzero()\n",
    "    nonzeroy = np.array(nonzero[0])\n",
    "    nonzerox = np.array(nonzero[1])\n",
    "\n",
    "    leftx_current = leftx_base\n",
    "    rightx_current = rightx_base\n",
    "    \n",
    "    \n",
    "\n",
    "    left_lane_inds = []\n",
    "    right_lane_inds = []\n",
    "    \n",
    "\n",
    "    leftx_empty = 0\n",
    "    rightx_empty = 0\n",
    "\n",
    "    for window in range(nwindows):\n",
    "\n",
    "        win_y_low = binary_warped.shape[0] - (window+1)*window_height\n",
    "        win_y_high = binary_warped.shape[0] - window*window_height\n",
    "        win_xleft_low = leftx_current - margin\n",
    "        win_xleft_high = leftx_current + margin\n",
    "        win_xright_low = rightx_current - margin\n",
    "        win_xright_high = rightx_current + margin\n",
    "        \n",
    "        \n",
    "\n",
    "        img_show = plt.imshow(binary_wraped)\n",
    "        currentAxis=plt.gca()\n",
    "        rect=patches.Rectangle((win_xleft_low, win_y_low), 2*margin, window_height,linewidth=1,edgecolor='r',facecolor='none')\n",
    "        currentAxis.add_patch(rect)\n",
    "        \n",
    "        img_show = plt.imshow(binary_wraped)\n",
    "        currentAxis=plt.gca()\n",
    "        rect=patches.Rectangle((win_xright_low, win_y_low), 2*margin, window_height,linewidth=1,edgecolor='r',facecolor='none')\n",
    "        currentAxis.add_patch(rect)\n",
    "        \n",
    "        \n",
    "        \n",
    "\n",
    "        good_left_inds = ((nonzeroy >= win_y_low) & (nonzeroy < win_y_high) & \n",
    "        (nonzerox >= win_xleft_low) &  (nonzerox < win_xleft_high)).nonzero()[0]\n",
    "        good_right_inds = ((nonzeroy >= win_y_low) & (nonzeroy < win_y_high) & \n",
    "        (nonzerox >= win_xright_low) &  (nonzerox < win_xright_high)).nonzero()[0]\n",
    "        \n",
    "\n",
    "        if len(good_left_inds) > minpix and leftx_empty < 3:\n",
    "            left_lane_inds.append(good_left_inds)\n",
    "            leftx_current = np.int(np.mean(nonzerox[good_left_inds]))\n",
    "            if leftx_empty > 0:\n",
    "                leftx_empty -= 1\n",
    "        else:\n",
    "            leftx_empty += 1\n",
    "            \n",
    "        if len(good_right_inds) > minpix and rightx_empty < 3:    \n",
    "            right_lane_inds.append(good_right_inds)\n",
    "            rightx_current = np.int(np.mean(nonzerox[good_right_inds]))\n",
    "            if rightx_empty >0:\n",
    "                rightx_empty -= 1\n",
    "        else:\n",
    "            rightx_empty += 1\n",
    "            \n",
    "    \n",
    "\n",
    "    left_lane_inds = np.concatenate(left_lane_inds)\n",
    "    right_lane_inds = np.concatenate(right_lane_inds)\n",
    "    \n",
    "\n",
    "    leftx = nonzerox[left_lane_inds]\n",
    "    lefty = nonzeroy[left_lane_inds] \n",
    "    rightx = nonzerox[right_lane_inds]\n",
    "    righty = nonzeroy[right_lane_inds] \n",
    "    \n",
    "\n",
    "    left_fit = np.polyfit(lefty, leftx, 2)\n",
    "    right_fit = np.polyfit(righty, rightx, 2)\n",
    "    \n",
    "\n",
    "    d_left = left_fit[0] * 720 **2 + left_fit[1] * 720 + left_fit[2]\n",
    "    d_right = right_fit[0] * 720 **2 + right_fit[1] * 720 + right_fit[2]\n",
    "    \n",
    "    print(d_left, d_right)\n",
    "    \n",
    "    if d_right - d_left < 50:\n",
    "        if (d_left + d_right)/2 <= 640:\n",
    "            right_fit[2] = left_fit[2] + 600\n",
    "        else:\n",
    "            left_fit[2] = right_fit[2] - 600\n",
    "        \n",
    "    \n",
    "    '''\n",
    "    plt.plot(lefty, leftx, 'o')\n",
    "    left_fitx = left_fit[0]*lefty**2 + left_fit[1]*lefty + left_fit[2]\n",
    "    plt.plot(lefty, left_fitx)\n",
    "    \n",
    "    plt.plot(righty, rightx, 'o')\n",
    "    right_fitx = right_fit[0]*righty**2 + right_fit[1]*righty + right_fit[2]\n",
    "    plt.plot(righty, right_fitx)\n",
    "    '''\n",
    "    \n",
    "    return left_fit, right_fit, left_lane_inds, right_lane_inds"
   ]
  },
  {
   "cell_type": "code",
   "execution_count": null,
   "metadata": {},
   "outputs": [],
   "source": [
    "left_fit, right_fit, left_lane_inds, right_lane_inds = find_line(binary_wraped)\n",
    "print(left_fit, right_fit, left_lane_inds, right_lane_inds)"
   ]
  },
  {
   "cell_type": "markdown",
   "metadata": {},
   "source": [
    "## 6. 计算车道中心线曲率/车辆距中心线的位置\n",
    "\n",
    "\n",
    "根据数学知识可以知道，曲线上某一点的曲率可以通过以下公式计算得到：\n",
    "\n",
    "![](https://ai-studio-static-online.cdn.bcebos.com/eeb88485bbb5477d9149e635aacd9ec65360ea3fa10e4b05bef432143ee64cc6)\n",
    "\n",
    "但是通过这个公式，我们求出的车道线曲率是像素级别的，如果要转换到真实世界坐标系下的曲率，需要知道像素与真实世界坐标系尺寸的对应关系，这里直接给出：\n",
    "\n",
    "![](https://ai-studio-static-online.cdn.bcebos.com/a18e622e76fc4e0e95ae565422beb9ebca6b162bd4cc450ea3d65470b82351ae)\n"
   ]
  },
  {
   "cell_type": "markdown",
   "metadata": {},
   "source": [
    "##  题6. 补全空缺处的公式"
   ]
  },
  {
   "cell_type": "code",
   "execution_count": null,
   "metadata": {},
   "outputs": [],
   "source": [
    "def calculate_curv_and_pos(binary_warped, left_fit, right_fit):\n",
    "\n",
    "    ploty = np.linspace(0, binary_warped.shape[0]-1, binary_warped.shape[0] )\n",
    "    leftx = left_fit[0]*ploty**2 + left_fit[1]*ploty + left_fit[2]\n",
    "    rightx = right_fit[0]*ploty**2 + right_fit[1]*ploty + right_fit[2]\n",
    "\n",
    "    ym_per_pix = 30/720 \n",
    "    xm_per_pix = 3.7/700 \n",
    "    y_eval = np.max(ploty)\n",
    "\n",
    "    left_fit_cr = np.polyfit(ploty*ym_per_pix, leftx*xm_per_pix, 2)\n",
    "    right_fit_cr = np.polyfit(ploty*ym_per_pix, rightx*xm_per_pix, 2)\n",
    "\n",
    "    left_curverad = ((1 + (2*left_fit_cr[0]*y_eval*ym_per_pix + left_fit_cr[1])**2)**1.5) / np.absolute(2*left_fit_cr[0])\n",
    "    \n",
    "    \n",
    "    \n",
    "    right_curverad = ?\n",
    "    #A: ((1 + (2*left_fit_cr[0]*y_eval*ym_per_pix + left_fit_cr[1])**2)**1.5) / np.absolute(2*left_fit_cr[0])\n",
    "    #B: ((1 + (2*right_fit_cr[0]*y_eval*ym_per_pix + right_fit_cr[1])**2)**1.5) / np.absolute(2*right_fit_cr[0])\n",
    "    #C: ((1 + (left_fit_cr[0]*right_fit_cr[0]*y_eval*ym_per_pix + right_fit_cr[1])**2)**1.5) / np.absolute(left_fit_cr[0]*right_fit_cr[0])\n",
    "    \n",
    "    \n",
    "    \n",
    "    curvature = ((left_curverad + right_curverad) / 2)\n",
    "\n",
    "    lane_width = np.absolute(leftx[719] - rightx[719])\n",
    "    lane_xm_per_pix = 3.7 / lane_width\n",
    "    veh_pos = (((leftx[719] + rightx[719]) * lane_xm_per_pix) / 2.)\n",
    "    cen_pos = ((binary_warped.shape[1] * lane_xm_per_pix) / 2.)\n",
    "    distance_from_center = veh_pos - cen_pos\n",
    "    return curvature, distance_from_center"
   ]
  },
  {
   "cell_type": "code",
   "execution_count": null,
   "metadata": {},
   "outputs": [],
   "source": [
    "curv, dist = calculate_curv_and_pos(binary_wraped, left_fit, right_fit)\n",
    "print(curv)\n",
    "print(dist)"
   ]
  },
  {
   "cell_type": "markdown",
   "metadata": {},
   "source": [
    "## 7. 在原图上还原车道线\n"
   ]
  },
  {
   "cell_type": "code",
   "execution_count": null,
   "metadata": {},
   "outputs": [],
   "source": [
    "def draw_area(undist, binary_warped, Minv, left_fit, right_fit):\n",
    "\n",
    "    ploty = np.linspace(0, binary_warped.shape[0]-1, binary_warped.shape[0] )\n",
    "    left_fitx = left_fit[0]*ploty**2 + left_fit[1]*ploty + left_fit[2]\n",
    "    right_fitx = right_fit[0]*ploty**2 + right_fit[1]*ploty + right_fit[2]\n",
    "\n",
    "    warp_zero = np.zeros_like(binary_warped).astype(np.uint8)\n",
    "    color_warp = np.dstack((warp_zero, warp_zero, warp_zero))\n",
    "    \n",
    "\n",
    "    pts_left = np.array([np.transpose(np.vstack([left_fitx, ploty]))])\n",
    "    pts_right = np.array([np.flipud(np.transpose(np.vstack([right_fitx, ploty])))])\n",
    "    pts = np.hstack((pts_left, pts_right))\n",
    "    \n",
    "\n",
    "    cv2.fillPoly(color_warp, np.int_([pts]), (0,255, 0))\n",
    "    \n",
    "\n",
    "    newwarp = cv2.warpPerspective(color_warp, Minv, (undist.shape[1], undist.shape[0])) \n",
    "\n",
    "    result = cv2.addWeighted(undist, 1, newwarp, 0.3, 0)\n",
    "    return result"
   ]
  },
  {
   "cell_type": "code",
   "execution_count": null,
   "metadata": {},
   "outputs": [],
   "source": [
    "img_result = draw_area(origin, binary_wraped, Minv, left_fit, right_fit)\n",
    "plt.imshow(img_result)"
   ]
  },
  {
   "cell_type": "code",
   "execution_count": null,
   "metadata": {},
   "outputs": [],
   "source": []
  }
 ],
 "metadata": {
  "kernelspec": {
   "display_name": "Python 3",
   "language": "python",
   "name": "python3"
  },
  "language_info": {
   "codemirror_mode": {
    "name": "ipython",
    "version": 3
   },
   "file_extension": ".py",
   "mimetype": "text/x-python",
   "name": "python",
   "nbconvert_exporter": "python",
   "pygments_lexer": "ipython3",
   "version": "3.6.9"
  }
 },
 "nbformat": 4,
 "nbformat_minor": 1
}
